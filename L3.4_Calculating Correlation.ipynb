{
 "cells": [
  {
   "cell_type": "code",
   "execution_count": 1,
   "metadata": {
    "collapsed": true
   },
   "outputs": [],
   "source": [
    "import pandas as pd"
   ]
  },
  {
   "cell_type": "code",
   "execution_count": 2,
   "metadata": {
    "collapsed": true
   },
   "outputs": [],
   "source": [
    "filename = './nyc_subway_weather.csv'\n",
    "subway_df = pd.read_csv(filename)"
   ]
  },
  {
   "cell_type": "code",
   "execution_count": null,
   "metadata": {
    "collapsed": true
   },
   "outputs": [],
   "source": [
    "def correlation(x, y):\n",
    "    '''\n",
    "    Fill in this function to compute the correlation between the two\n",
    "    input variables. Each input is either a NumPy array or a Pandas\n",
    "    Series.\n",
    "    \n",
    "    correlation = average of (x in standard units) times (y in standard units)\n",
    "    \n",
    "    Remember to pass the argument \"ddof=0\" to the Pandas std() function!\n",
    "    '''\n",
    "    return None\n",
    "\n",
    "entries = subway_df['ENTRIESn_hourly']\n",
    "cum_entries = subway_df['ENTRIESn']\n",
    "rain = subway_df['meanprecipi']\n",
    "temp = subway_df['meantempi']\n",
    "\n",
    "print correlation(entries, rain)\n",
    "print correlation(entries, temp)\n",
    "print correlation(rain, temp)\n",
    "\n",
    "print correlation(entries, cum_entries)"
   ]
  },
  {
   "cell_type": "code",
   "execution_count": 13,
   "metadata": {
    "collapsed": false
   },
   "outputs": [
    {
     "data": {
      "text/plain": [
       "2952.350972010598"
      ]
     },
     "execution_count": 13,
     "metadata": {},
     "output_type": "execute_result"
    }
   ],
   "source": [
    "std_x=subway_df['ENTRIESn_hourly'].std(ddof=0)\n",
    "std_x"
   ]
  },
  {
   "cell_type": "code",
   "execution_count": 17,
   "metadata": {
    "collapsed": false
   },
   "outputs": [
    {
     "data": {
      "text/plain": [
       "0.01634405287803309"
      ]
     },
     "execution_count": 17,
     "metadata": {},
     "output_type": "execute_result"
    }
   ],
   "source": [
    "std_y=subway_df['meanprecipi'].std(ddof=0)\n",
    "std_y"
   ]
  },
  {
   "cell_type": "code",
   "execution_count": 15,
   "metadata": {
    "collapsed": false
   },
   "outputs": [
    {
     "data": {
      "text/plain": [
       "1886.5899552158317"
      ]
     },
     "execution_count": 15,
     "metadata": {},
     "output_type": "execute_result"
    }
   ],
   "source": [
    "mean_x=subway_df['ENTRIESn_hourly'].mean()\n",
    "mean_x"
   ]
  },
  {
   "cell_type": "code",
   "execution_count": 18,
   "metadata": {
    "collapsed": false
   },
   "outputs": [
    {
     "data": {
      "text/plain": [
       "0.00461769326361681"
      ]
     },
     "execution_count": 18,
     "metadata": {},
     "output_type": "execute_result"
    }
   ],
   "source": [
    "mean_y=subway_df['meanprecipi'].mean()\n",
    "mean_y"
   ]
  },
  {
   "cell_type": "code",
   "execution_count": 21,
   "metadata": {
    "collapsed": false
   },
   "outputs": [
    {
     "data": {
      "text/plain": [
       "0   -0.639013\n",
       "1   -0.639013\n",
       "2   -0.639013\n",
       "3   -0.639013\n",
       "4   -0.639013\n",
       "Name: ENTRIESn_hourly, dtype: float64"
      ]
     },
     "execution_count": 21,
     "metadata": {},
     "output_type": "execute_result"
    }
   ],
   "source": [
    "standardized_x=(subway_df['ENTRIESn_hourly']-mean_x)/std_x\n",
    "standardized_x.head()"
   ]
  },
  {
   "cell_type": "code",
   "execution_count": 20,
   "metadata": {
    "collapsed": false
   },
   "outputs": [
    {
     "data": {
      "text/plain": [
       "0   -0.28253\n",
       "1   -0.28253\n",
       "2   -0.28253\n",
       "3   -0.28253\n",
       "4   -0.28253\n",
       "Name: meanprecipi, dtype: float64"
      ]
     },
     "execution_count": 20,
     "metadata": {},
     "output_type": "execute_result"
    }
   ],
   "source": [
    "standardized_y=(subway_df['meanprecipi']-mean_y)/std_y\n",
    "standardized_y.head()"
   ]
  },
  {
   "cell_type": "code",
   "execution_count": 36,
   "metadata": {
    "collapsed": false
   },
   "outputs": [
    {
     "data": {
      "text/plain": [
       "0        0.180541\n",
       "1        0.180541\n",
       "2        0.180541\n",
       "3        0.180541\n",
       "4        0.180541\n",
       "5        0.179105\n",
       "6        0.178722\n",
       "7        0.133841\n",
       "8        0.133649\n",
       "9        0.158435\n",
       "10       0.158052\n",
       "11       0.173459\n",
       "12       0.178627\n",
       "13       0.087236\n",
       "14       0.154990\n",
       "15       0.154033\n",
       "16      -0.201177\n",
       "17      -0.207758\n",
       "18      -0.151094\n",
       "19      -0.159795\n",
       "20      -0.182884\n",
       "21      -0.185896\n",
       "22       0.174894\n",
       "23       0.178722\n",
       "24       0.085322\n",
       "25       0.151162\n",
       "26       0.158722\n",
       "27       0.173555\n",
       "28       0.178435\n",
       "29       0.087715\n",
       "           ...   \n",
       "42619    0.180541\n",
       "42620    0.180541\n",
       "42621    0.180541\n",
       "42622    0.180541\n",
       "42623    0.180541\n",
       "42624    0.180541\n",
       "42625    0.180541\n",
       "42626    0.180541\n",
       "42627    0.180541\n",
       "42628    0.180541\n",
       "42629    0.180541\n",
       "42630    0.180541\n",
       "42631    0.180541\n",
       "42632    0.180541\n",
       "42633    0.180541\n",
       "42634    0.180541\n",
       "42635    0.180541\n",
       "42636    0.180541\n",
       "42637    0.115378\n",
       "42638    0.115378\n",
       "42639    0.115378\n",
       "42640    0.115378\n",
       "42641    0.115378\n",
       "42642    0.115378\n",
       "42643    0.180541\n",
       "42644    0.180541\n",
       "42645    0.180541\n",
       "42646    0.180541\n",
       "42647    0.180541\n",
       "42648    0.180541\n",
       "dtype: float64"
      ]
     },
     "execution_count": 36,
     "metadata": {},
     "output_type": "execute_result"
    }
   ],
   "source": [
    "standardized_x*standardized_y"
   ]
  },
  {
   "cell_type": "code",
   "execution_count": 41,
   "metadata": {
    "collapsed": false
   },
   "outputs": [
    {
     "data": {
      "text/plain": [
       "0.03564851577223041"
      ]
     },
     "execution_count": 41,
     "metadata": {},
     "output_type": "execute_result"
    }
   ],
   "source": [
    "(standardized_x*standardized_y).mean()"
   ]
  },
  {
   "cell_type": "code",
   "execution_count": null,
   "metadata": {
    "collapsed": true
   },
   "outputs": [],
   "source": []
  }
 ],
 "metadata": {
  "anaconda-cloud": {},
  "kernelspec": {
   "display_name": "Python [default]",
   "language": "python",
   "name": "python3"
  },
  "language_info": {
   "codemirror_mode": {
    "name": "ipython",
    "version": 3
   },
   "file_extension": ".py",
   "mimetype": "text/x-python",
   "name": "python",
   "nbconvert_exporter": "python",
   "pygments_lexer": "ipython3",
   "version": "3.5.2"
  }
 },
 "nbformat": 4,
 "nbformat_minor": 1
}
