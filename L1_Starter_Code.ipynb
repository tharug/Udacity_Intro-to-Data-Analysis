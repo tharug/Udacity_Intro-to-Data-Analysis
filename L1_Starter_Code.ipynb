{
 "cells": [
  {
   "cell_type": "markdown",
   "metadata": {},
   "source": [
    "Before we get started, a couple of reminders to keep in mind when using iPython notebooks:\n",
    "\n",
    "- Remember that you can see from the left side of a code cell when it was last run if there is a number within the brackets.\n",
    "- When you start a new notebook session, make sure you run all of the cells up to the point where you last left off. Even if the output is still visible from when you ran the cells in your previous session, the kernel starts in a fresh state so you'll need to reload the data, etc. on a new session.\n",
    "- The previous point is useful to keep in mind if your answers do not match what is expected in the lesson's quizzes. Try reloading the data and run all of the processing steps one by one in order to make sure that you are working with the same variables and data that are at each quiz stage.\n",
    "\n",
    "\n",
    "## Load Data from CSVs"
   ]
  },
  {
   "cell_type": "code",
   "execution_count": 1,
   "metadata": {
    "collapsed": true
   },
   "outputs": [],
   "source": [
    "import unicodecsv\n",
    "\n",
    "## Longer version of code (replaced with shorter, equivalent version below)\n",
    "\n",
    "# enrollments = []\n",
    "# f = open('enrollments.csv', 'rb')\n",
    "# reader = unicodecsv.DictReader(f)\n",
    "# for row in reader:\n",
    "#     enrollments.append(row)\n",
    "# f.close()\n",
    "\n",
    "with open('enrollments.csv', 'rb') as f:\n",
    "    reader = unicodecsv.DictReader(f)\n",
    "    enrollments = list(reader)"
   ]
  },
  {
   "cell_type": "code",
   "execution_count": 2,
   "metadata": {
    "collapsed": false
   },
   "outputs": [],
   "source": [
    "#####################################\n",
    "#                 1                 #\n",
    "#####################################\n",
    "\n",
    "## Read in the data from daily_engagement.csv and project_submissions.csv \n",
    "## and store the results in the below variables.\n",
    "## Then look at the first row of each table.\n",
    "\n",
    "with open ('daily_engagement.csv','rb') as f:\n",
    "    reader=unicodecsv.DictReader(f)\n",
    "    daily_engagement=list(reader)\n",
    "\n",
    "with open ('project_submissions.csv','rb') as f:\n",
    "    reader=unicodecsv.DictReader(f)\n",
    "    project_submissions=list(reader)\n"
   ]
  },
  {
   "cell_type": "code",
   "execution_count": 3,
   "metadata": {
    "collapsed": false
   },
   "outputs": [
    {
     "data": {
      "text/plain": [
       "{'acct': '0',\n",
       " 'lessons_completed': '0.0',\n",
       " 'num_courses_visited': '1.0',\n",
       " 'projects_completed': '0.0',\n",
       " 'total_minutes_visited': '11.6793745',\n",
       " 'utc_date': '2015-01-09'}"
      ]
     },
     "execution_count": 3,
     "metadata": {},
     "output_type": "execute_result"
    }
   ],
   "source": [
    "daily_engagement[0]"
   ]
  },
  {
   "cell_type": "code",
   "execution_count": 4,
   "metadata": {
    "collapsed": false
   },
   "outputs": [
    {
     "data": {
      "text/plain": [
       "{'account_key': '256',\n",
       " 'assigned_rating': 'UNGRADED',\n",
       " 'completion_date': '2015-01-16',\n",
       " 'creation_date': '2015-01-14',\n",
       " 'lesson_key': '3176718735',\n",
       " 'processing_state': 'EVALUATED'}"
      ]
     },
     "execution_count": 4,
     "metadata": {},
     "output_type": "execute_result"
    }
   ],
   "source": [
    "project_submissions[0]"
   ]
  },
  {
   "cell_type": "markdown",
   "metadata": {},
   "source": [
    "## Fixing Data Types"
   ]
  },
  {
   "cell_type": "code",
   "execution_count": 5,
   "metadata": {
    "collapsed": false
   },
   "outputs": [
    {
     "data": {
      "text/plain": [
       "{'account_key': '448',\n",
       " 'cancel_date': datetime.datetime(2015, 1, 14, 0, 0),\n",
       " 'days_to_cancel': 65,\n",
       " 'is_canceled': True,\n",
       " 'is_udacity': True,\n",
       " 'join_date': datetime.datetime(2014, 11, 10, 0, 0),\n",
       " 'status': 'canceled'}"
      ]
     },
     "execution_count": 5,
     "metadata": {},
     "output_type": "execute_result"
    }
   ],
   "source": [
    "from datetime import datetime as dt\n",
    "\n",
    "# Takes a date as a string, and returns a Python datetime object. \n",
    "# If there is no date given, returns None\n",
    "def parse_date(date):\n",
    "    if date == '':\n",
    "        return None\n",
    "    else:\n",
    "        return dt.strptime(date, '%Y-%m-%d')\n",
    "    \n",
    "# Takes a string which is either an empty string or represents an integer,\n",
    "# and returns an int or None.\n",
    "def parse_maybe_int(i):\n",
    "    if i == '':\n",
    "        return None\n",
    "    else:\n",
    "        return int(i)\n",
    "\n",
    "# Clean up the data types in the enrollments table\n",
    "for enrollment in enrollments:\n",
    "    enrollment['cancel_date'] = parse_date(enrollment['cancel_date'])\n",
    "    enrollment['days_to_cancel'] = parse_maybe_int(enrollment['days_to_cancel'])\n",
    "    enrollment['is_canceled'] = enrollment['is_canceled'] == 'True'\n",
    "    enrollment['is_udacity'] = enrollment['is_udacity'] == 'True'\n",
    "    enrollment['join_date'] = parse_date(enrollment['join_date'])\n",
    "    \n",
    "enrollments[0]"
   ]
  },
  {
   "cell_type": "code",
   "execution_count": 6,
   "metadata": {
    "collapsed": false
   },
   "outputs": [
    {
     "data": {
      "text/plain": [
       "{'acct': '0',\n",
       " 'lessons_completed': 0,\n",
       " 'num_courses_visited': 1,\n",
       " 'projects_completed': 0,\n",
       " 'total_minutes_visited': 11.6793745,\n",
       " 'utc_date': datetime.datetime(2015, 1, 9, 0, 0)}"
      ]
     },
     "execution_count": 6,
     "metadata": {},
     "output_type": "execute_result"
    }
   ],
   "source": [
    "# Clean up the data types in the engagement table\n",
    "for engagement_record in daily_engagement:\n",
    "    engagement_record['lessons_completed'] = int(float(engagement_record['lessons_completed']))\n",
    "    engagement_record['num_courses_visited'] = int(float(engagement_record['num_courses_visited']))\n",
    "    engagement_record['projects_completed'] = int(float(engagement_record['projects_completed']))\n",
    "    engagement_record['total_minutes_visited'] = float(engagement_record['total_minutes_visited'])\n",
    "    engagement_record['utc_date'] = parse_date(engagement_record['utc_date'])\n",
    "    \n",
    "daily_engagement[0]"
   ]
  },
  {
   "cell_type": "code",
   "execution_count": 7,
   "metadata": {
    "collapsed": false
   },
   "outputs": [
    {
     "data": {
      "text/plain": [
       "{'account_key': '256',\n",
       " 'assigned_rating': 'UNGRADED',\n",
       " 'completion_date': datetime.datetime(2015, 1, 16, 0, 0),\n",
       " 'creation_date': datetime.datetime(2015, 1, 14, 0, 0),\n",
       " 'lesson_key': '3176718735',\n",
       " 'processing_state': 'EVALUATED'}"
      ]
     },
     "execution_count": 7,
     "metadata": {},
     "output_type": "execute_result"
    }
   ],
   "source": [
    "# Clean up the data types in the submissions table\n",
    "for submission in project_submissions:\n",
    "    submission['completion_date'] = parse_date(submission['completion_date'])\n",
    "    submission['creation_date'] = parse_date(submission['creation_date'])\n",
    "\n",
    "project_submissions[0]"
   ]
  },
  {
   "cell_type": "markdown",
   "metadata": {},
   "source": [
    "Note when running the above cells that we are actively changing the contents of our data variables. If you try to run these cells multiple times in the same session, an error will occur.\n",
    "\n",
    "## Investigating the Data"
   ]
  },
  {
   "cell_type": "code",
   "execution_count": 8,
   "metadata": {
    "collapsed": true
   },
   "outputs": [],
   "source": [
    "#####################################\n",
    "#                 2                 #\n",
    "#####################################\n",
    "\n",
    "## Find the total number of rows and the number of unique students (account keys)\n",
    "## in each table.\n",
    "unique_enrolled_students=set()\n",
    "for enrollment in enrollments:\n",
    "    unique_enrolled_students.add(enrollment['account_key'])\n",
    "    \n",
    "unique_engaged_students=set()\n",
    "for engagement_record in daily_engagement:\n",
    "    unique_engaged_students.add(engagement_record['acct'])\n",
    "    \n",
    "unique_project_submission=set()\n",
    "for submission in project_submissions:\n",
    "    unique_project_submission.add(submission['account_key'])"
   ]
  },
  {
   "cell_type": "code",
   "execution_count": 9,
   "metadata": {
    "collapsed": false
   },
   "outputs": [
    {
     "name": "stdout",
     "output_type": "stream",
     "text": [
      "Number of records in enrollment table: 1640\n",
      "Number of records in engagement table: 136240\n",
      "Number of records in project_submissions table: 3642\n",
      "\n",
      "Number of unique student accounts in enrollment table: 1302\n",
      "Number of unique student accounts in daily_engagement table: 1237\n",
      "Number of unique student accounts in project_submissions table: 743\n"
     ]
    }
   ],
   "source": [
    "print ('Number of records in enrollment table:',len(enrollments))\n",
    "print ('Number of records in engagement table:',len(daily_engagement))\n",
    "print ('Number of records in project_submissions table:',len(project_submissions))\n",
    "print ()\n",
    "print ('Number of unique student accounts in enrollment table:',len(unique_enrolled_students))\n",
    "print ('Number of unique student accounts in daily_engagement table:',len(unique_engaged_students))\n",
    "print ('Number of unique student accounts in project_submissions table:',len(unique_project_submission))"
   ]
  },
  {
   "cell_type": "markdown",
   "metadata": {},
   "source": [
    "## Problems in the Data"
   ]
  },
  {
   "cell_type": "code",
   "execution_count": 10,
   "metadata": {
    "collapsed": false
   },
   "outputs": [
    {
     "data": {
      "text/plain": [
       "{'account_key': '0',\n",
       " 'lessons_completed': 0,\n",
       " 'num_courses_visited': 1,\n",
       " 'projects_completed': 0,\n",
       " 'total_minutes_visited': 11.6793745,\n",
       " 'utc_date': datetime.datetime(2015, 1, 9, 0, 0)}"
      ]
     },
     "execution_count": 10,
     "metadata": {},
     "output_type": "execute_result"
    }
   ],
   "source": [
    "#####################################\n",
    "#                 3                 #\n",
    "#####################################\n",
    "\n",
    "## Rename the \"acct\" column in the daily_engagement table to \"account_key\".\n",
    "for engagement_record in daily_engagement:\n",
    "    engagement_record['account_key']=engagement_record.pop('acct')\n",
    "    \n",
    "daily_engagement[0]"
   ]
  },
  {
   "cell_type": "markdown",
   "metadata": {},
   "source": [
    "## Missing Engagement Records"
   ]
  },
  {
   "cell_type": "code",
   "execution_count": 11,
   "metadata": {
    "collapsed": false
   },
   "outputs": [
    {
     "name": "stdout",
     "output_type": "stream",
     "text": [
      "{'is_canceled': True, 'days_to_cancel': 0, 'cancel_date': datetime.datetime(2014, 11, 12, 0, 0), 'status': 'canceled', 'account_key': '1219', 'join_date': datetime.datetime(2014, 11, 12, 0, 0), 'is_udacity': False}\n"
     ]
    }
   ],
   "source": [
    "#####################################\n",
    "#                 4                 #\n",
    "#####################################\n",
    "\n",
    "## Find any one student enrollments where the student is missing from the daily engagement table.\n",
    "## Output that enrollment.\n",
    "\n",
    "# missing_enrolled_students=unique_enrolled_students.difference(unique_engaged_students)\n",
    "\n",
    "for enrollment in enrollments:\n",
    "    if enrollment['account_key'] not in unique_engaged_students:\n",
    "        print (enrollment)\n",
    "        break\n"
   ]
  },
  {
   "cell_type": "markdown",
   "metadata": {},
   "source": [
    "## Checking for More Problem Records"
   ]
  },
  {
   "cell_type": "code",
   "execution_count": 12,
   "metadata": {
    "collapsed": false
   },
   "outputs": [
    {
     "name": "stdout",
     "output_type": "stream",
     "text": [
      "{'is_canceled': True, 'days_to_cancel': 59, 'cancel_date': datetime.datetime(2015, 3, 10, 0, 0), 'status': 'canceled', 'account_key': '1304', 'join_date': datetime.datetime(2015, 1, 10, 0, 0), 'is_udacity': True}\n",
      "{'is_canceled': True, 'days_to_cancel': 99, 'cancel_date': datetime.datetime(2015, 6, 17, 0, 0), 'status': 'canceled', 'account_key': '1304', 'join_date': datetime.datetime(2015, 3, 10, 0, 0), 'is_udacity': True}\n",
      "{'is_canceled': False, 'days_to_cancel': None, 'cancel_date': None, 'status': 'current', 'account_key': '1101', 'join_date': datetime.datetime(2015, 2, 25, 0, 0), 'is_udacity': True}\n"
     ]
    }
   ],
   "source": [
    "#####################################\n",
    "#                 5                 #\n",
    "#####################################\n",
    "\n",
    "## Find the number of surprising data points (enrollments missing from\n",
    "## the engagement table) that remain, if any.\n",
    "\n",
    "### Students how had been enrolled for atleast a day yet without engagements\n",
    "for enrollment in enrollments:\n",
    "    if enrollment['account_key'] not in unique_engaged_students and enrollment['days_to_cancel']!=0:\n",
    "        print (enrollment)"
   ]
  },
  {
   "cell_type": "markdown",
   "metadata": {},
   "source": [
    "## Tracking Down the Remaining Problems"
   ]
  },
  {
   "cell_type": "code",
   "execution_count": 13,
   "metadata": {
    "collapsed": false
   },
   "outputs": [
    {
     "data": {
      "text/plain": [
       "6"
      ]
     },
     "execution_count": 13,
     "metadata": {},
     "output_type": "execute_result"
    }
   ],
   "source": [
    "# Create a set of the account keys for all Udacity test accounts\n",
    "udacity_test_accounts = set()\n",
    "for enrollment in enrollments:\n",
    "    if enrollment['is_udacity']:\n",
    "        udacity_test_accounts.add(enrollment['account_key'])\n",
    "len(udacity_test_accounts)"
   ]
  },
  {
   "cell_type": "code",
   "execution_count": 14,
   "metadata": {
    "collapsed": true
   },
   "outputs": [],
   "source": [
    "# Given some data with an account_key field, removes any records corresponding to Udacity test accounts\n",
    "def remove_udacity_accounts(data):\n",
    "    non_udacity_data = []\n",
    "    for data_point in data:\n",
    "        if data_point['account_key'] not in udacity_test_accounts:\n",
    "            non_udacity_data.append(data_point)\n",
    "    return non_udacity_data"
   ]
  },
  {
   "cell_type": "code",
   "execution_count": 15,
   "metadata": {
    "collapsed": false
   },
   "outputs": [
    {
     "name": "stdout",
     "output_type": "stream",
     "text": [
      "1622\n",
      "135656\n",
      "3634\n"
     ]
    }
   ],
   "source": [
    "# Remove Udacity test accounts from all three tables\n",
    "non_udacity_enrollments = remove_udacity_accounts(enrollments)\n",
    "non_udacity_engagement = remove_udacity_accounts(daily_engagement)\n",
    "non_udacity_submissions = remove_udacity_accounts(project_submissions)\n",
    "\n",
    "print (len(non_udacity_enrollments))\n",
    "print (len(non_udacity_engagement))\n",
    "print (len(non_udacity_submissions))"
   ]
  },
  {
   "cell_type": "markdown",
   "metadata": {},
   "source": [
    "## Refining the Question"
   ]
  },
  {
   "cell_type": "code",
   "execution_count": 16,
   "metadata": {
    "collapsed": false
   },
   "outputs": [],
   "source": [
    "#####################################\n",
    "#                 6                 #\n",
    "#####################################\n",
    "\n",
    "## Create a dictionary named paid_students containing all students who either\n",
    "## haven't canceled yet or who remained enrolled for more than 7 days. The keys\n",
    "## should be account keys, and the values should be the date the student enrolled.\n",
    "\n",
    "paid_students ={}\n",
    "\n",
    "for enrollment in non_udacity_enrollments:\n",
    "    if (enrollment['days_to_cancel']==None or enrollment['days_to_cancel'] > 7) and \\\n",
    "    (enrollment['account_key'] not in paid_students or \\\n",
    "     enrollment['join_date']>paid_students[enrollment['account_key']]): \n",
    "        paid_students[enrollment['account_key']]=enrollment['join_date']\n",
    "        "
   ]
  },
  {
   "cell_type": "code",
   "execution_count": 17,
   "metadata": {
    "collapsed": false
   },
   "outputs": [
    {
     "data": {
      "text/plain": [
       "995"
      ]
     },
     "execution_count": 17,
     "metadata": {},
     "output_type": "execute_result"
    }
   ],
   "source": [
    "len(paid_students)"
   ]
  },
  {
   "cell_type": "markdown",
   "metadata": {},
   "source": [
    "## Getting Data from First Week"
   ]
  },
  {
   "cell_type": "code",
   "execution_count": 18,
   "metadata": {
    "collapsed": true
   },
   "outputs": [],
   "source": [
    "# Takes a student's join date and the date of a specific engagement record,\n",
    "# and returns True if that engagement record happened within one week\n",
    "# of the student joining.\n",
    "def within_one_week(join_date, engagement_date):\n",
    "    time_delta = engagement_date - join_date\n",
    "    return time_delta.days < 7"
   ]
  },
  {
   "cell_type": "code",
   "execution_count": 19,
   "metadata": {
    "collapsed": false
   },
   "outputs": [
    {
     "data": {
      "text/plain": [
       "21508"
      ]
     },
     "execution_count": 19,
     "metadata": {},
     "output_type": "execute_result"
    }
   ],
   "source": [
    "#####################################\n",
    "#                 7                 #\n",
    "#####################################\n",
    "\n",
    "## Create a list of rows from the engagement table including only rows where\n",
    "## the student is one of the paid students you just found, and the date is within\n",
    "## one week of the student's join date.\n",
    "\n",
    "paid_engagement_in_first_week=[]\n",
    "\n",
    "for engagement in non_udacity_engagement:\n",
    "# Check if the account_key is in the paid student list    \n",
    "    if engagement['account_key'] in paid_students:\n",
    "        account_key=engagement['account_key']\n",
    "        engagement_date=engagement['utc_date']\n",
    "        join_date=paid_students[account_key]\n",
    "# Add the engagement record if the function within_one_week\n",
    "# returns true\n",
    "        if within_one_week(join_date,engagement_date):\n",
    "            paid_engagement_in_first_week.append(engagement)\n",
    "            \n",
    "len(paid_engagement_in_first_week)"
   ]
  },
  {
   "cell_type": "code",
   "execution_count": 63,
   "metadata": {
    "collapsed": false
   },
   "outputs": [
    {
     "data": {
      "text/plain": [
       "int"
      ]
     },
     "execution_count": 63,
     "metadata": {},
     "output_type": "execute_result"
    }
   ],
   "source": [
    "type(0)"
   ]
  },
  {
   "cell_type": "markdown",
   "metadata": {},
   "source": [
    "## Exploring Student Engagement"
   ]
  },
  {
   "cell_type": "code",
   "execution_count": 20,
   "metadata": {
    "collapsed": true
   },
   "outputs": [],
   "source": [
    "from collections import defaultdict\n",
    "\n",
    "# Create a dictionary of engagement grouped by student.\n",
    "# The keys are account keys, and the values are lists of engagement records.\n",
    "engagement_by_account = defaultdict(list)\n",
    "for engagement_record in paid_engagement_in_first_week:\n",
    "    account_key = engagement_record['account_key']\n",
    "    engagement_by_account[account_key].append(engagement_record)"
   ]
  },
  {
   "cell_type": "code",
   "execution_count": 21,
   "metadata": {
    "collapsed": true
   },
   "outputs": [],
   "source": [
    "# Create a dictionary with the total minutes each student spent in the classroom during the first week.\n",
    "# The keys are account keys, and the values are numbers (total minutes)\n",
    "total_minutes_by_account = {}\n",
    "for account_key, engagement_for_student in engagement_by_account.items():\n",
    "    total_minutes = 0\n",
    "    for engagement_record in engagement_for_student:\n",
    "        total_minutes += engagement_record['total_minutes_visited']\n",
    "    total_minutes_by_account[account_key] = total_minutes"
   ]
  },
  {
   "cell_type": "code",
   "execution_count": 22,
   "metadata": {
    "collapsed": false
   },
   "outputs": [
    {
     "name": "stdout",
     "output_type": "stream",
     "text": [
      "Mean: 647.590173826\n",
      "Standard deviation: 1129.27121042\n",
      "Minimum: 0.0\n",
      "Maximum: 10568.1008673\n"
     ]
    }
   ],
   "source": [
    "import numpy as np\n",
    "\n",
    "# Summarize the data about minutes spent in the classroom\n",
    "total_minutes = list(total_minutes_by_account.values())\n",
    "\n",
    "print ('Mean:', np.mean(total_minutes))\n",
    "print ('Standard deviation:', np.std(total_minutes))\n",
    "print ('Minimum:', np.min(total_minutes))\n",
    "print ('Maximum:', np.max(total_minutes))"
   ]
  },
  {
   "cell_type": "markdown",
   "metadata": {},
   "source": [
    "## Debugging Data Analysis Code"
   ]
  },
  {
   "cell_type": "code",
   "execution_count": 23,
   "metadata": {
    "collapsed": false
   },
   "outputs": [
    {
     "name": "stdout",
     "output_type": "stream",
     "text": [
      "[{'utc_date': datetime.datetime(2015, 1, 7, 0, 0), 'total_minutes_visited': 50.9938951667, 'account_key': '108', 'lessons_completed': 0, 'num_courses_visited': 1, 'projects_completed': 0}, {'utc_date': datetime.datetime(2015, 1, 8, 0, 0), 'total_minutes_visited': 688.3034385, 'account_key': '108', 'lessons_completed': 5, 'num_courses_visited': 2, 'projects_completed': 0}, {'utc_date': datetime.datetime(2015, 1, 9, 0, 0), 'total_minutes_visited': 427.691757667, 'account_key': '108', 'lessons_completed': 1, 'num_courses_visited': 2, 'projects_completed': 0}, {'utc_date': datetime.datetime(2015, 1, 10, 0, 0), 'total_minutes_visited': 165.6270925, 'account_key': '108', 'lessons_completed': 0, 'num_courses_visited': 3, 'projects_completed': 0}, {'utc_date': datetime.datetime(2015, 1, 11, 0, 0), 'total_minutes_visited': 0.0, 'account_key': '108', 'lessons_completed': 0, 'num_courses_visited': 0, 'projects_completed': 0}, {'utc_date': datetime.datetime(2015, 1, 12, 0, 0), 'total_minutes_visited': 199.746703834, 'account_key': '108', 'lessons_completed': 0, 'num_courses_visited': 2, 'projects_completed': 0}, {'utc_date': datetime.datetime(2015, 1, 13, 0, 0), 'total_minutes_visited': 522.626804333, 'account_key': '108', 'lessons_completed': 0, 'num_courses_visited': 1, 'projects_completed': 0}, {'utc_date': datetime.datetime(2015, 1, 14, 0, 0), 'total_minutes_visited': 19.3757686667, 'account_key': '108', 'lessons_completed': 0, 'num_courses_visited': 1, 'projects_completed': 0}, {'utc_date': datetime.datetime(2015, 1, 15, 0, 0), 'total_minutes_visited': 159.846594, 'account_key': '108', 'lessons_completed': 1, 'num_courses_visited': 1, 'projects_completed': 0}, {'utc_date': datetime.datetime(2015, 1, 16, 0, 0), 'total_minutes_visited': 188.953028166, 'account_key': '108', 'lessons_completed': 0, 'num_courses_visited': 2, 'projects_completed': 0}, {'utc_date': datetime.datetime(2015, 1, 17, 0, 0), 'total_minutes_visited': 150.338208833, 'account_key': '108', 'lessons_completed': 1, 'num_courses_visited': 3, 'projects_completed': 0}, {'utc_date': datetime.datetime(2015, 1, 18, 0, 0), 'total_minutes_visited': 46.2042118333, 'account_key': '108', 'lessons_completed': 0, 'num_courses_visited': 2, 'projects_completed': 0}, {'utc_date': datetime.datetime(2015, 1, 19, 0, 0), 'total_minutes_visited': 0.0, 'account_key': '108', 'lessons_completed': 0, 'num_courses_visited': 0, 'projects_completed': 0}, {'utc_date': datetime.datetime(2015, 1, 20, 0, 0), 'total_minutes_visited': 0.0, 'account_key': '108', 'lessons_completed': 0, 'num_courses_visited': 0, 'projects_completed': 0}, {'utc_date': datetime.datetime(2015, 1, 21, 0, 0), 'total_minutes_visited': 0.0, 'account_key': '108', 'lessons_completed': 0, 'num_courses_visited': 0, 'projects_completed': 0}, {'utc_date': datetime.datetime(2015, 1, 22, 0, 0), 'total_minutes_visited': 31.7297723333, 'account_key': '108', 'lessons_completed': 0, 'num_courses_visited': 2, 'projects_completed': 0}, {'utc_date': datetime.datetime(2015, 1, 23, 0, 0), 'total_minutes_visited': 206.586538333, 'account_key': '108', 'lessons_completed': 0, 'num_courses_visited': 1, 'projects_completed': 0}, {'utc_date': datetime.datetime(2015, 1, 24, 0, 0), 'total_minutes_visited': 0.0, 'account_key': '108', 'lessons_completed': 0, 'num_courses_visited': 0, 'projects_completed': 0}, {'utc_date': datetime.datetime(2015, 1, 25, 0, 0), 'total_minutes_visited': 0.0, 'account_key': '108', 'lessons_completed': 0, 'num_courses_visited': 0, 'projects_completed': 0}, {'utc_date': datetime.datetime(2015, 1, 26, 0, 0), 'total_minutes_visited': 129.350111833, 'account_key': '108', 'lessons_completed': 0, 'num_courses_visited': 1, 'projects_completed': 0}, {'utc_date': datetime.datetime(2015, 1, 27, 0, 0), 'total_minutes_visited': 73.5691376667, 'account_key': '108', 'lessons_completed': 0, 'num_courses_visited': 1, 'projects_completed': 0}, {'utc_date': datetime.datetime(2015, 1, 28, 0, 0), 'total_minutes_visited': 0.0, 'account_key': '108', 'lessons_completed': 0, 'num_courses_visited': 0, 'projects_completed': 0}, {'utc_date': datetime.datetime(2015, 1, 29, 0, 0), 'total_minutes_visited': 271.0895865, 'account_key': '108', 'lessons_completed': 0, 'num_courses_visited': 1, 'projects_completed': 0}, {'utc_date': datetime.datetime(2015, 1, 30, 0, 0), 'total_minutes_visited': 432.252650333, 'account_key': '108', 'lessons_completed': 1, 'num_courses_visited': 1, 'projects_completed': 0}, {'utc_date': datetime.datetime(2015, 1, 31, 0, 0), 'total_minutes_visited': 196.13898, 'account_key': '108', 'lessons_completed': 0, 'num_courses_visited': 1, 'projects_completed': 0}, {'utc_date': datetime.datetime(2015, 2, 1, 0, 0), 'total_minutes_visited': 68.9915653333, 'account_key': '108', 'lessons_completed': 0, 'num_courses_visited': 1, 'projects_completed': 0}, {'utc_date': datetime.datetime(2015, 2, 2, 0, 0), 'total_minutes_visited': 86.3277713333, 'account_key': '108', 'lessons_completed': 0, 'num_courses_visited': 2, 'projects_completed': 0}, {'utc_date': datetime.datetime(2015, 2, 3, 0, 0), 'total_minutes_visited': 0.0, 'account_key': '108', 'lessons_completed': 0, 'num_courses_visited': 0, 'projects_completed': 0}, {'utc_date': datetime.datetime(2015, 2, 4, 0, 0), 'total_minutes_visited': 0.0, 'account_key': '108', 'lessons_completed': 0, 'num_courses_visited': 0, 'projects_completed': 0}, {'utc_date': datetime.datetime(2015, 2, 5, 0, 0), 'total_minutes_visited': 153.230525, 'account_key': '108', 'lessons_completed': 0, 'num_courses_visited': 1, 'projects_completed': 0}, {'utc_date': datetime.datetime(2015, 2, 6, 0, 0), 'total_minutes_visited': 0.0, 'account_key': '108', 'lessons_completed': 0, 'num_courses_visited': 0, 'projects_completed': 0}, {'utc_date': datetime.datetime(2015, 2, 7, 0, 0), 'total_minutes_visited': 0.0, 'account_key': '108', 'lessons_completed': 0, 'num_courses_visited': 0, 'projects_completed': 0}, {'utc_date': datetime.datetime(2015, 2, 8, 0, 0), 'total_minutes_visited': 0.0, 'account_key': '108', 'lessons_completed': 0, 'num_courses_visited': 0, 'projects_completed': 0}, {'utc_date': datetime.datetime(2015, 2, 9, 0, 0), 'total_minutes_visited': 16.687455, 'account_key': '108', 'lessons_completed': 0, 'num_courses_visited': 1, 'projects_completed': 0}, {'utc_date': datetime.datetime(2015, 2, 10, 0, 0), 'total_minutes_visited': 133.047518833, 'account_key': '108', 'lessons_completed': 0, 'num_courses_visited': 1, 'projects_completed': 0}, {'utc_date': datetime.datetime(2015, 2, 11, 0, 0), 'total_minutes_visited': 60.2176756667, 'account_key': '108', 'lessons_completed': 0, 'num_courses_visited': 2, 'projects_completed': 0}, {'utc_date': datetime.datetime(2015, 2, 12, 0, 0), 'total_minutes_visited': 160.438302667, 'account_key': '108', 'lessons_completed': 0, 'num_courses_visited': 3, 'projects_completed': 0}, {'utc_date': datetime.datetime(2015, 2, 13, 0, 0), 'total_minutes_visited': 506.220547, 'account_key': '108', 'lessons_completed': 4, 'num_courses_visited': 2, 'projects_completed': 0}, {'utc_date': datetime.datetime(2015, 2, 14, 0, 0), 'total_minutes_visited': 105.095858167, 'account_key': '108', 'lessons_completed': 0, 'num_courses_visited': 1, 'projects_completed': 0}, {'utc_date': datetime.datetime(2015, 2, 15, 0, 0), 'total_minutes_visited': 0.0, 'account_key': '108', 'lessons_completed': 0, 'num_courses_visited': 0, 'projects_completed': 0}, {'utc_date': datetime.datetime(2015, 2, 16, 0, 0), 'total_minutes_visited': 0.0, 'account_key': '108', 'lessons_completed': 0, 'num_courses_visited': 0, 'projects_completed': 0}, {'utc_date': datetime.datetime(2015, 2, 17, 0, 0), 'total_minutes_visited': 2.851689, 'account_key': '108', 'lessons_completed': 0, 'num_courses_visited': 1, 'projects_completed': 0}, {'utc_date': datetime.datetime(2015, 2, 18, 0, 0), 'total_minutes_visited': 10.9540768333, 'account_key': '108', 'lessons_completed': 1, 'num_courses_visited': 1, 'projects_completed': 0}, {'utc_date': datetime.datetime(2015, 2, 19, 0, 0), 'total_minutes_visited': 474.2906025, 'account_key': '108', 'lessons_completed': 3, 'num_courses_visited': 1, 'projects_completed': 0}, {'utc_date': datetime.datetime(2015, 2, 20, 0, 0), 'total_minutes_visited': 820.879483167, 'account_key': '108', 'lessons_completed': 5, 'num_courses_visited': 2, 'projects_completed': 0}, {'utc_date': datetime.datetime(2015, 2, 21, 0, 0), 'total_minutes_visited': 189.447189334, 'account_key': '108', 'lessons_completed': 2, 'num_courses_visited': 2, 'projects_completed': 0}, {'utc_date': datetime.datetime(2015, 2, 22, 0, 0), 'total_minutes_visited': 97.7356985, 'account_key': '108', 'lessons_completed': 1, 'num_courses_visited': 2, 'projects_completed': 0}, {'utc_date': datetime.datetime(2015, 2, 23, 0, 0), 'total_minutes_visited': 16.399642, 'account_key': '108', 'lessons_completed': 0, 'num_courses_visited': 1, 'projects_completed': 0}, {'utc_date': datetime.datetime(2015, 2, 24, 0, 0), 'total_minutes_visited': 0.0, 'account_key': '108', 'lessons_completed': 0, 'num_courses_visited': 0, 'projects_completed': 0}, {'utc_date': datetime.datetime(2015, 2, 25, 0, 0), 'total_minutes_visited': 0.0, 'account_key': '108', 'lessons_completed': 0, 'num_courses_visited': 0, 'projects_completed': 0}, {'utc_date': datetime.datetime(2015, 2, 26, 0, 0), 'total_minutes_visited': 0.0, 'account_key': '108', 'lessons_completed': 0, 'num_courses_visited': 0, 'projects_completed': 0}, {'utc_date': datetime.datetime(2015, 2, 27, 0, 0), 'total_minutes_visited': 0.0, 'account_key': '108', 'lessons_completed': 0, 'num_courses_visited': 0, 'projects_completed': 0}, {'utc_date': datetime.datetime(2015, 2, 28, 0, 0), 'total_minutes_visited': 0.0, 'account_key': '108', 'lessons_completed': 0, 'num_courses_visited': 0, 'projects_completed': 0}, {'utc_date': datetime.datetime(2015, 3, 1, 0, 0), 'total_minutes_visited': 0.0, 'account_key': '108', 'lessons_completed': 0, 'num_courses_visited': 0, 'projects_completed': 0}, {'utc_date': datetime.datetime(2015, 3, 2, 0, 0), 'total_minutes_visited': 0.0, 'account_key': '108', 'lessons_completed': 0, 'num_courses_visited': 0, 'projects_completed': 0}, {'utc_date': datetime.datetime(2015, 3, 3, 0, 0), 'total_minutes_visited': 0.0, 'account_key': '108', 'lessons_completed': 0, 'num_courses_visited': 0, 'projects_completed': 0}, {'utc_date': datetime.datetime(2015, 3, 4, 0, 0), 'total_minutes_visited': 2.0494365, 'account_key': '108', 'lessons_completed': 0, 'num_courses_visited': 1, 'projects_completed': 0}, {'utc_date': datetime.datetime(2015, 3, 5, 0, 0), 'total_minutes_visited': 0.0, 'account_key': '108', 'lessons_completed': 0, 'num_courses_visited': 0, 'projects_completed': 0}, {'utc_date': datetime.datetime(2015, 3, 6, 0, 0), 'total_minutes_visited': 431.799976167, 'account_key': '108', 'lessons_completed': 2, 'num_courses_visited': 2, 'projects_completed': 0}, {'utc_date': datetime.datetime(2015, 3, 7, 0, 0), 'total_minutes_visited': 119.514411833, 'account_key': '108', 'lessons_completed': 1, 'num_courses_visited': 1, 'projects_completed': 0}, {'utc_date': datetime.datetime(2015, 3, 8, 0, 0), 'total_minutes_visited': 164.2608825, 'account_key': '108', 'lessons_completed': 1, 'num_courses_visited': 1, 'projects_completed': 0}, {'utc_date': datetime.datetime(2015, 3, 9, 0, 0), 'total_minutes_visited': 179.749760666, 'account_key': '108', 'lessons_completed': 0, 'num_courses_visited': 2, 'projects_completed': 0}, {'utc_date': datetime.datetime(2015, 3, 10, 0, 0), 'total_minutes_visited': 0.0, 'account_key': '108', 'lessons_completed': 0, 'num_courses_visited': 0, 'projects_completed': 0}, {'utc_date': datetime.datetime(2015, 3, 11, 0, 0), 'total_minutes_visited': 0.0, 'account_key': '108', 'lessons_completed': 0, 'num_courses_visited': 0, 'projects_completed': 0}, {'utc_date': datetime.datetime(2015, 3, 12, 0, 0), 'total_minutes_visited': 10.787165, 'account_key': '108', 'lessons_completed': 0, 'num_courses_visited': 1, 'projects_completed': 0}, {'utc_date': datetime.datetime(2015, 3, 13, 0, 0), 'total_minutes_visited': 53.0065191667, 'account_key': '108', 'lessons_completed': 0, 'num_courses_visited': 1, 'projects_completed': 0}, {'utc_date': datetime.datetime(2015, 3, 14, 0, 0), 'total_minutes_visited': 203.048973667, 'account_key': '108', 'lessons_completed': 1, 'num_courses_visited': 1, 'projects_completed': 0}, {'utc_date': datetime.datetime(2015, 3, 15, 0, 0), 'total_minutes_visited': 51.2993831667, 'account_key': '108', 'lessons_completed': 0, 'num_courses_visited': 1, 'projects_completed': 0}, {'utc_date': datetime.datetime(2015, 3, 16, 0, 0), 'total_minutes_visited': 0.0, 'account_key': '108', 'lessons_completed': 0, 'num_courses_visited': 0, 'projects_completed': 0}, {'utc_date': datetime.datetime(2015, 3, 17, 0, 0), 'total_minutes_visited': 148.2304025, 'account_key': '108', 'lessons_completed': 0, 'num_courses_visited': 1, 'projects_completed': 0}, {'utc_date': datetime.datetime(2015, 3, 18, 0, 0), 'total_minutes_visited': 27.5826056667, 'account_key': '108', 'lessons_completed': 0, 'num_courses_visited': 1, 'projects_completed': 0}, {'utc_date': datetime.datetime(2015, 3, 19, 0, 0), 'total_minutes_visited': 0.0, 'account_key': '108', 'lessons_completed': 0, 'num_courses_visited': 0, 'projects_completed': 0}, {'utc_date': datetime.datetime(2015, 3, 20, 0, 0), 'total_minutes_visited': 0.0, 'account_key': '108', 'lessons_completed': 0, 'num_courses_visited': 0, 'projects_completed': 0}, {'utc_date': datetime.datetime(2015, 3, 21, 0, 0), 'total_minutes_visited': 14.4492643333, 'account_key': '108', 'lessons_completed': 0, 'num_courses_visited': 1, 'projects_completed': 0}, {'utc_date': datetime.datetime(2015, 3, 22, 0, 0), 'total_minutes_visited': 159.175812667, 'account_key': '108', 'lessons_completed': 1, 'num_courses_visited': 1, 'projects_completed': 0}, {'utc_date': datetime.datetime(2015, 3, 23, 0, 0), 'total_minutes_visited': 23.0641448333, 'account_key': '108', 'lessons_completed': 0, 'num_courses_visited': 1, 'projects_completed': 0}, {'utc_date': datetime.datetime(2015, 3, 24, 0, 0), 'total_minutes_visited': 327.687187333, 'account_key': '108', 'lessons_completed': 3, 'num_courses_visited': 2, 'projects_completed': 1}, {'utc_date': datetime.datetime(2015, 3, 25, 0, 0), 'total_minutes_visited': 210.324669, 'account_key': '108', 'lessons_completed': 5, 'num_courses_visited': 1, 'projects_completed': 0}, {'utc_date': datetime.datetime(2015, 3, 26, 0, 0), 'total_minutes_visited': 114.421496, 'account_key': '108', 'lessons_completed': 0, 'num_courses_visited': 2, 'projects_completed': 0}, {'utc_date': datetime.datetime(2015, 3, 27, 0, 0), 'total_minutes_visited': 85.2018686667, 'account_key': '108', 'lessons_completed': 0, 'num_courses_visited': 1, 'projects_completed': 0}, {'utc_date': datetime.datetime(2015, 3, 28, 0, 0), 'total_minutes_visited': 9.53501516667, 'account_key': '108', 'lessons_completed': 0, 'num_courses_visited': 1, 'projects_completed': 0}, {'utc_date': datetime.datetime(2015, 3, 29, 0, 0), 'total_minutes_visited': 0.0, 'account_key': '108', 'lessons_completed': 0, 'num_courses_visited': 0, 'projects_completed': 0}, {'utc_date': datetime.datetime(2015, 3, 30, 0, 0), 'total_minutes_visited': 0.0, 'account_key': '108', 'lessons_completed': 0, 'num_courses_visited': 0, 'projects_completed': 0}, {'utc_date': datetime.datetime(2015, 3, 31, 0, 0), 'total_minutes_visited': 0.0, 'account_key': '108', 'lessons_completed': 0, 'num_courses_visited': 0, 'projects_completed': 0}, {'utc_date': datetime.datetime(2015, 4, 1, 0, 0), 'total_minutes_visited': 147.569145833, 'account_key': '108', 'lessons_completed': 0, 'num_courses_visited': 3, 'projects_completed': 0}, {'utc_date': datetime.datetime(2015, 4, 2, 0, 0), 'total_minutes_visited': 77.2467501667, 'account_key': '108', 'lessons_completed': 0, 'num_courses_visited': 3, 'projects_completed': 0}, {'utc_date': datetime.datetime(2015, 4, 3, 0, 0), 'total_minutes_visited': 84.8263243333, 'account_key': '108', 'lessons_completed': 0, 'num_courses_visited': 3, 'projects_completed': 0}, {'utc_date': datetime.datetime(2015, 4, 4, 0, 0), 'total_minutes_visited': 0.0, 'account_key': '108', 'lessons_completed': 0, 'num_courses_visited': 0, 'projects_completed': 0}, {'utc_date': datetime.datetime(2015, 4, 5, 0, 0), 'total_minutes_visited': 0.0, 'account_key': '108', 'lessons_completed': 0, 'num_courses_visited': 0, 'projects_completed': 0}, {'utc_date': datetime.datetime(2015, 4, 6, 0, 0), 'total_minutes_visited': 32.9969003333, 'account_key': '108', 'lessons_completed': 0, 'num_courses_visited': 2, 'projects_completed': 0}, {'utc_date': datetime.datetime(2015, 4, 7, 0, 0), 'total_minutes_visited': 173.764699333, 'account_key': '108', 'lessons_completed': 0, 'num_courses_visited': 1, 'projects_completed': 0}, {'utc_date': datetime.datetime(2015, 4, 8, 0, 0), 'total_minutes_visited': 0.0, 'account_key': '108', 'lessons_completed': 0, 'num_courses_visited': 0, 'projects_completed': 0}, {'utc_date': datetime.datetime(2015, 4, 9, 0, 0), 'total_minutes_visited': 85.6887951667, 'account_key': '108', 'lessons_completed': 0, 'num_courses_visited': 1, 'projects_completed': 0}, {'utc_date': datetime.datetime(2015, 4, 10, 0, 0), 'total_minutes_visited': 72.4837255, 'account_key': '108', 'lessons_completed': 0, 'num_courses_visited': 2, 'projects_completed': 0}, {'utc_date': datetime.datetime(2015, 4, 11, 0, 0), 'total_minutes_visited': 0.0, 'account_key': '108', 'lessons_completed': 0, 'num_courses_visited': 0, 'projects_completed': 0}, {'utc_date': datetime.datetime(2015, 4, 12, 0, 0), 'total_minutes_visited': 0.0, 'account_key': '108', 'lessons_completed': 0, 'num_courses_visited': 0, 'projects_completed': 0}, {'utc_date': datetime.datetime(2015, 4, 13, 0, 0), 'total_minutes_visited': 0.0, 'account_key': '108', 'lessons_completed': 0, 'num_courses_visited': 0, 'projects_completed': 0}, {'utc_date': datetime.datetime(2015, 4, 14, 0, 0), 'total_minutes_visited': 36.9211676667, 'account_key': '108', 'lessons_completed': 0, 'num_courses_visited': 1, 'projects_completed': 0}, {'utc_date': datetime.datetime(2015, 4, 15, 0, 0), 'total_minutes_visited': 179.353473333, 'account_key': '108', 'lessons_completed': 1, 'num_courses_visited': 2, 'projects_completed': 0}, {'utc_date': datetime.datetime(2015, 4, 16, 0, 0), 'total_minutes_visited': 274.209734167, 'account_key': '108', 'lessons_completed': 0, 'num_courses_visited': 2, 'projects_completed': 0}, {'utc_date': datetime.datetime(2015, 4, 17, 0, 0), 'total_minutes_visited': 40.340405, 'account_key': '108', 'lessons_completed': 0, 'num_courses_visited': 1, 'projects_completed': 0}, {'utc_date': datetime.datetime(2015, 4, 18, 0, 0), 'total_minutes_visited': 0.0, 'account_key': '108', 'lessons_completed': 0, 'num_courses_visited': 0, 'projects_completed': 0}, {'utc_date': datetime.datetime(2015, 4, 19, 0, 0), 'total_minutes_visited': 0.0, 'account_key': '108', 'lessons_completed': 0, 'num_courses_visited': 0, 'projects_completed': 0}, {'utc_date': datetime.datetime(2015, 4, 20, 0, 0), 'total_minutes_visited': 25.9137858334, 'account_key': '108', 'lessons_completed': 0, 'num_courses_visited': 2, 'projects_completed': 0}, {'utc_date': datetime.datetime(2015, 4, 21, 0, 0), 'total_minutes_visited': 3.40682316667, 'account_key': '108', 'lessons_completed': 0, 'num_courses_visited': 1, 'projects_completed': 0}, {'utc_date': datetime.datetime(2015, 4, 22, 0, 0), 'total_minutes_visited': 99.1186611667, 'account_key': '108', 'lessons_completed': 0, 'num_courses_visited': 2, 'projects_completed': 0}, {'utc_date': datetime.datetime(2015, 4, 23, 0, 0), 'total_minutes_visited': 35.8316206667, 'account_key': '108', 'lessons_completed': 0, 'num_courses_visited': 1, 'projects_completed': 2}, {'utc_date': datetime.datetime(2015, 4, 24, 0, 0), 'total_minutes_visited': 0.0, 'account_key': '108', 'lessons_completed': 0, 'num_courses_visited': 0, 'projects_completed': 0}, {'utc_date': datetime.datetime(2015, 4, 25, 0, 0), 'total_minutes_visited': 0.0, 'account_key': '108', 'lessons_completed': 0, 'num_courses_visited': 0, 'projects_completed': 0}, {'utc_date': datetime.datetime(2015, 4, 26, 0, 0), 'total_minutes_visited': 0.0, 'account_key': '108', 'lessons_completed': 0, 'num_courses_visited': 0, 'projects_completed': 0}]\n"
     ]
    }
   ],
   "source": [
    "#####################################\n",
    "#                 8                 #\n",
    "#####################################\n",
    "\n",
    "## Go through a similar process as before to see if there is a problem.\n",
    "## Locate at least one surprising piece of data, output it, and take a look at it.\n",
    "\n",
    "for account_key, engagement_for_student in engagement_by_account.items():\n",
    "    total_minutes = 0\n",
    "    for engagement_record in engagement_for_student:\n",
    "        total_minutes += engagement_record['total_minutes_visited']\n",
    "    if total_minutes> 10568:\n",
    "        print (engagement_by_account[account_key])\n"
   ]
  },
  {
   "cell_type": "code",
   "execution_count": 24,
   "metadata": {
    "collapsed": false
   },
   "outputs": [
    {
     "data": {
      "text/plain": [
       "6919"
      ]
     },
     "execution_count": 24,
     "metadata": {},
     "output_type": "execute_result"
    }
   ],
   "source": [
    "def within_one_week(join_date, engagement_date):\n",
    "    if engagement_date >= join_date:\n",
    "        time_delta = engagement_date - join_date\n",
    "        return time_delta.days < 7\n",
    "    else:\n",
    "        return False\n",
    "\n",
    "paid_engagement_in_first_week=[]\n",
    "\n",
    "for engagement in non_udacity_engagement:\n",
    "# Check if the account_key is in the paid student list    \n",
    "    if engagement['account_key'] in paid_students:\n",
    "        account_key=engagement['account_key']\n",
    "        engagement_date=engagement['utc_date']\n",
    "        join_date=paid_students[account_key]\n",
    "# Add the engagement record if the function within_one_week\n",
    "# returns true\n",
    "        if within_one_week(join_date,engagement_date):\n",
    "            paid_engagement_in_first_week.append(engagement)\n",
    "            \n",
    "len(paid_engagement_in_first_week)"
   ]
  },
  {
   "cell_type": "code",
   "execution_count": 25,
   "metadata": {
    "collapsed": false
   },
   "outputs": [
    {
     "name": "stdout",
     "output_type": "stream",
     "text": [
      "Mean: 306.708326753\n",
      "Standard deviation: 412.996933409\n",
      "Minimum: 0.0\n",
      "Maximum: 3564.7332645\n"
     ]
    }
   ],
   "source": [
    "engagement_by_account = defaultdict(list)\n",
    "for engagement_record in paid_engagement_in_first_week:\n",
    "    account_key = engagement_record['account_key']\n",
    "    engagement_by_account[account_key].append(engagement_record)\n",
    "    \n",
    "total_minutes_by_account = {}\n",
    "for account_key, engagement_for_student in engagement_by_account.items():\n",
    "    total_minutes = 0\n",
    "    for engagement_record in engagement_for_student:\n",
    "        total_minutes += engagement_record['total_minutes_visited']\n",
    "    total_minutes_by_account[account_key] = total_minutes\n",
    "    \n",
    "total_minutes = list(total_minutes_by_account.values())\n",
    "\n",
    "print ('Mean:', np.mean(total_minutes))\n",
    "print ('Standard deviation:', np.std(total_minutes))\n",
    "print ('Minimum:', np.min(total_minutes))\n",
    "print ('Maximum:', np.max(total_minutes))"
   ]
  },
  {
   "cell_type": "code",
   "execution_count": 26,
   "metadata": {
    "collapsed": false
   },
   "outputs": [
    {
     "name": "stdout",
     "output_type": "stream",
     "text": [
      "[{'utc_date': datetime.datetime(2015, 7, 9, 0, 0), 'total_minutes_visited': 850.519339666, 'account_key': '163', 'lessons_completed': 4, 'num_courses_visited': 4, 'projects_completed': 0}, {'utc_date': datetime.datetime(2015, 7, 10, 0, 0), 'total_minutes_visited': 872.633923334, 'account_key': '163', 'lessons_completed': 6, 'num_courses_visited': 6, 'projects_completed': 0}, {'utc_date': datetime.datetime(2015, 7, 11, 0, 0), 'total_minutes_visited': 777.018903666, 'account_key': '163', 'lessons_completed': 6, 'num_courses_visited': 2, 'projects_completed': 0}, {'utc_date': datetime.datetime(2015, 7, 12, 0, 0), 'total_minutes_visited': 294.568774, 'account_key': '163', 'lessons_completed': 2, 'num_courses_visited': 1, 'projects_completed': 0}, {'utc_date': datetime.datetime(2015, 7, 13, 0, 0), 'total_minutes_visited': 471.2139785, 'account_key': '163', 'lessons_completed': 1, 'num_courses_visited': 3, 'projects_completed': 0}, {'utc_date': datetime.datetime(2015, 7, 14, 0, 0), 'total_minutes_visited': 298.778345333, 'account_key': '163', 'lessons_completed': 1, 'num_courses_visited': 2, 'projects_completed': 0}, {'utc_date': datetime.datetime(2015, 7, 15, 0, 0), 'total_minutes_visited': 0.0, 'account_key': '163', 'lessons_completed': 0, 'num_courses_visited': 0, 'projects_completed': 0}]\n"
     ]
    }
   ],
   "source": [
    "for account_key, engagement_for_student in engagement_by_account.items():\n",
    "    total_minutes = 0\n",
    "    for engagement_record in engagement_for_student:\n",
    "        total_minutes += engagement_record['total_minutes_visited']\n",
    "    if total_minutes> 3564:\n",
    "        print (engagement_by_account[account_key])"
   ]
  },
  {
   "cell_type": "markdown",
   "metadata": {},
   "source": [
    "## Lessons Completed in First Week"
   ]
  },
  {
   "cell_type": "code",
   "execution_count": 27,
   "metadata": {
    "collapsed": false
   },
   "outputs": [],
   "source": [
    "#####################################\n",
    "#                 9                 #\n",
    "#####################################\n",
    "\n",
    "## Adapt the code above to find the mean, standard deviation, minimum, and maximum for\n",
    "## the number of lessons completed by each student during the first week. Try creating\n",
    "## one or more functions to re-use the code above.\n",
    "def group_data(data,key_name):\n",
    "    grouped_data = defaultdict(list)\n",
    "    for data_point in data:\n",
    "        grouped_data[data_point[key_name]].append(data_point)\n",
    "    return grouped_data\n",
    "    \n",
    "def total_data(grouped_data,field_name):\n",
    "    summed_data={}\n",
    "    for key, data_points in grouped_data.items():\n",
    "        total = 0\n",
    "        for data_point in data_points:\n",
    "            total += data_point[field_name]\n",
    "        summed_data[key] = total\n",
    "    return summed_data\n",
    "\n",
    "def show_statistics(dictionary):    \n",
    "    values = list(dictionary.values())\n",
    "\n",
    "    print ('Mean:', np.mean(values))\n",
    "    print ('Standard deviation:', np.std(values))\n",
    "    print ('Minimum:', np.min(values))\n",
    "    print ('Maximum:', np.max(values))"
   ]
  },
  {
   "cell_type": "code",
   "execution_count": 28,
   "metadata": {
    "collapsed": false
   },
   "outputs": [
    {
     "name": "stdout",
     "output_type": "stream",
     "text": [
      "Mean: 1.63618090452\n",
      "Standard deviation: 3.00256129983\n",
      "Minimum: 0\n",
      "Maximum: 36\n"
     ]
    }
   ],
   "source": [
    "engagement_by_account=group_data(paid_engagement_in_first_week,'account_key')\n",
    "total_lessions_completed=total_data(engagement_by_account,'lessons_completed')\n",
    "show_statistics(total_lessions_completed)"
   ]
  },
  {
   "cell_type": "markdown",
   "metadata": {},
   "source": [
    "## Number of Visits in First Week"
   ]
  },
  {
   "cell_type": "code",
   "execution_count": 29,
   "metadata": {
    "collapsed": false
   },
   "outputs": [
    {
     "name": "stdout",
     "output_type": "stream",
     "text": [
      "Mean: 2.86733668342\n",
      "Standard deviation: 2.25519800292\n",
      "Minimum: 0\n",
      "Maximum: 7\n"
     ]
    }
   ],
   "source": [
    "######################################\n",
    "#                 10                 #\n",
    "######################################\n",
    "\n",
    "# create new field 'has_visited' in paid_engagement_in_first_week\n",
    "\n",
    "for engagement_record in paid_engagement_in_first_week:\n",
    "    if engagement_record['total_minutes_visited'] >0:\n",
    "        engagement_record['has_visited']=1\n",
    "    else:\n",
    "        engagement_record['has_visited']=0\n",
    "\n",
    "\n",
    "## Find the mean, standard deviation, minimum, and maximum for the number of\n",
    "## days each student visits the classroom during the first week.\n",
    "\n",
    "engagement_by_account=group_data(paid_engagement_in_first_week,'account_key')\n",
    "No_of_visits=total_data(engagement_by_account,'has_visited')\n",
    "show_statistics(No_of_visits)\n"
   ]
  },
  {
   "cell_type": "markdown",
   "metadata": {},
   "source": [
    "## Splitting out Passing Students"
   ]
  },
  {
   "cell_type": "code",
   "execution_count": 30,
   "metadata": {
    "collapsed": false
   },
   "outputs": [
    {
     "name": "stdout",
     "output_type": "stream",
     "text": [
      "4527\n",
      "2392\n"
     ]
    }
   ],
   "source": [
    "######################################\n",
    "#                 11                 #\n",
    "######################################\n",
    "\n",
    "## Create two lists of engagement data for paid students in the first week.\n",
    "## The first list should contain data for students who eventually pass the\n",
    "## subway project, and the second list should contain data for students\n",
    "## who do not.\n",
    "\n",
    "subway_project_lesson_keys = ['746169184', '3176718735']\n",
    "\n",
    "passing_students=set()\n",
    "\n",
    "for submission in non_udacity_submissions:\n",
    "    if submission['lesson_key'] in subway_project_lesson_keys and submission['assigned_rating'] in ['PASSED','DISTINCTION']:\n",
    "        passing_students.add(submission['account_key'])\n",
    "\n",
    "passing_engagement =[]\n",
    "non_passing_engagement =[]\n",
    "\n",
    "for engagement in paid_engagement_in_first_week:\n",
    "    if engagement['account_key'] in passing_students:\n",
    "        passing_engagement.append(engagement)\n",
    "    else:\n",
    "        non_passing_engagement.append(engagement)\n",
    "        \n",
    "print (len(passing_engagement))\n",
    "print (len(non_passing_engagement))"
   ]
  },
  {
   "cell_type": "markdown",
   "metadata": {},
   "source": [
    "## Comparing the Two Student Groups"
   ]
  },
  {
   "cell_type": "code",
   "execution_count": 31,
   "metadata": {
    "collapsed": false
   },
   "outputs": [
    {
     "name": "stdout",
     "output_type": "stream",
     "text": [
      "Passing Students lessions completed\n",
      "Mean: 2.05255023184\n",
      "Standard deviation: 3.14222705558\n",
      "Minimum: 0\n",
      "Maximum: 36\n",
      "\n",
      "Non-passing Students lessions completed\n",
      "Mean: 0.862068965517\n",
      "Standard deviation: 2.54915994183\n",
      "Minimum: 0\n",
      "Maximum: 27\n"
     ]
    }
   ],
   "source": [
    "######################################\n",
    "#                 12                 #\n",
    "######################################\n",
    "\n",
    "## Compute some metrics you're interested in and see how they differ for\n",
    "## students who pass the subway project vs. students who don't. A good\n",
    "## starting point would be the metrics we looked at earlier (minutes spent\n",
    "## in the classroom, lessons completed, and days visited).\n",
    "\n",
    "passing_engagement_by_account=group_data(passing_engagement,'account_key')\n",
    "non_passing_engagement_by_account=group_data(non_passing_engagement,'account_key')\n",
    "# Statistics on lessions completed\n",
    "passing_total_lessions_completed=total_data(passing_engagement_by_account,'lessons_completed')\n",
    "non_passing_total_lessions_completed=total_data(non_passing_engagement_by_account,'lessons_completed')\n",
    "print ('Passing Students lessions completed')\n",
    "passing_lession_stats=show_statistics(passing_total_lessions_completed)\n",
    "print ()\n",
    "print ('Non-passing Students lessions completed')\n",
    "non_passing_lession_stats=show_statistics(non_passing_total_lessions_completed)"
   ]
  },
  {
   "cell_type": "code",
   "execution_count": 32,
   "metadata": {
    "collapsed": false
   },
   "outputs": [
    {
     "name": "stdout",
     "output_type": "stream",
     "text": [
      "Passing students minutes spent\n",
      "Mean: 394.586046484\n",
      "Standard deviation: 448.499519327\n",
      "Minimum: 0.0\n",
      "Maximum: 3564.7332645\n",
      "\n",
      "Non-passing students minutes spent\n",
      "Mean: 143.326474267\n",
      "Standard deviation: 269.538619011\n",
      "Minimum: 0.0\n",
      "Maximum: 1768.52274933\n"
     ]
    }
   ],
   "source": [
    "# Statistics on minutes spent\n",
    "print ('Passing students minutes spent')\n",
    "passing_total_minutes_spent=total_data(passing_engagement_by_account,'total_minutes_visited')\n",
    "passing_lession_stats=show_statistics(passing_total_minutes_spent)\n",
    "\n",
    "print ()\n",
    "print ('Non-passing students minutes spent')\n",
    "non_passing_total_minutes_spent=total_data(non_passing_engagement_by_account,'total_minutes_visited')\n",
    "non_passing_lession_stats=show_statistics(non_passing_total_minutes_spent)"
   ]
  },
  {
   "cell_type": "code",
   "execution_count": 33,
   "metadata": {
    "collapsed": false
   },
   "outputs": [
    {
     "name": "stdout",
     "output_type": "stream",
     "text": [
      "Passing students days visited\n",
      "Mean: 3.38485316847\n",
      "Standard deviation: 2.25882147092\n",
      "Minimum: 0\n",
      "Maximum: 7\n",
      "\n",
      "Non-passing students days visited\n",
      "Mean: 1.90517241379\n",
      "Standard deviation: 1.90573144136\n",
      "Minimum: 0\n",
      "Maximum: 7\n"
     ]
    }
   ],
   "source": [
    "# Statistics on days visited\n",
    "print ('Passing students days visited')\n",
    "passing_total_days_visited=total_data(passing_engagement_by_account,'has_visited')\n",
    "passing_days_visited_stats=show_statistics(passing_total_days_visited)\n",
    "print ()\n",
    "print ('Non-passing students days visited')\n",
    "non_passing_total_days_visited=total_data(non_passing_engagement_by_account,'has_visited')\n",
    "non_passing_days_visited_stats=show_statistics(non_passing_total_days_visited)"
   ]
  },
  {
   "cell_type": "markdown",
   "metadata": {},
   "source": [
    "## Making Histograms"
   ]
  },
  {
   "cell_type": "code",
   "execution_count": 34,
   "metadata": {
    "collapsed": false
   },
   "outputs": [
    {
     "data": {
      "image/png": "[encoded data removed]",
      "text/plain": [
       "<matplotlib.figure.Figure at 0x2057d80c208>"
      ]
     },
     "metadata": {},
     "output_type": "display_data"
    }
   ],
   "source": [
    "######################################\n",
    "#                 13                 #\n",
    "######################################\n",
    "\n",
    "# import matplotlib\n",
    "import matplotlib.pyplot as plt\n",
    "%matplotlib inline\n",
    "\n",
    "## Make histograms of the three metrics we looked at earlier for both\n",
    "## students who passed the subway project and students who didn't. You\n",
    "## might also want to make histograms of any other metrics you examined.\n",
    "\n",
    "# Passing students lessions completed\n",
    "data=list(passing_total_lessions_completed.values())\n",
    "plt.hist(data);"
   ]
  },
  {
   "cell_type": "code",
   "execution_count": 35,
   "metadata": {
    "collapsed": false
   },
   "outputs": [
    {
     "data": {
      "image/png": "[encoded data removed]",
      "text/plain": [
       "<matplotlib.figure.Figure at 0x2057d88fc88>"
      ]
     },
     "metadata": {},
     "output_type": "display_data"
    }
   ],
   "source": [
    "# Non-passing students lessions completed\n",
    "data=list(non_passing_total_lessions_completed.values())\n",
    "plt.hist(data);"
   ]
  },
  {
   "cell_type": "code",
   "execution_count": 36,
   "metadata": {
    "collapsed": false
   },
   "outputs": [
    {
     "data": {
      "image/png": "[encoded data removed]",
      "text/plain": [
       "<matplotlib.figure.Figure at 0x2057d631eb8>"
      ]
     },
     "metadata": {},
     "output_type": "display_data"
    }
   ],
   "source": [
    "# Passing students minutes spent\n",
    "data=list(passing_total_minutes_spent.values())\n",
    "plt.hist(data);"
   ]
  },
  {
   "cell_type": "code",
   "execution_count": 37,
   "metadata": {
    "collapsed": false
   },
   "outputs": [
    {
     "data": {
      "image/png": "[encoded data removed]",
      "text/plain": [
       "<matplotlib.figure.Figure at 0x2057d5e3c50>"
      ]
     },
     "metadata": {},
     "output_type": "display_data"
    }
   ],
   "source": [
    "# non-passing students minutes spent\n",
    "data=list(non_passing_total_minutes_spent.values())\n",
    "plt.hist(data);"
   ]
  },
  {
   "cell_type": "code",
   "execution_count": 38,
   "metadata": {
    "collapsed": false
   },
   "outputs": [
    {
     "data": {
      "image/png": "[encoded data removed]",
      "text/plain": [
       "<matplotlib.figure.Figure at 0x2057d5b1908>"
      ]
     },
     "metadata": {},
     "output_type": "display_data"
    }
   ],
   "source": [
    "# Passing students days visited\n",
    "data=list(passing_total_days_visited.values())\n",
    "plt.hist(data);"
   ]
  },
  {
   "cell_type": "code",
   "execution_count": 39,
   "metadata": {
    "collapsed": false
   },
   "outputs": [
    {
     "data": {
      "image/png": "[encoded data removed]",
      "text/plain": [
       "<matplotlib.figure.Figure at 0x2057d57cac8>"
      ]
     },
     "metadata": {},
     "output_type": "display_data"
    }
   ],
   "source": [
    "# non-passing students minutes spent\n",
    "data=list(non_passing_total_days_visited.values())\n",
    "plt.hist(data);"
   ]
  },
  {
   "cell_type": "markdown",
   "metadata": {},
   "source": [
    "## Improving Plots and Sharing Findings"
   ]
  },
  {
   "cell_type": "code",
   "execution_count": 40,
   "metadata": {
    "collapsed": false
   },
   "outputs": [],
   "source": [
    "######################################\n",
    "#                 14                 #\n",
    "######################################\n",
    "\n",
    "import seaborn as sns\n",
    "\n",
    "## Make a more polished version of at least one of your visualizations\n",
    "## from earlier. Try importing the seaborn library to make the visualization\n",
    "## look better, adding axis labels and a title, and changing one or more\n",
    "## arguments to the hist() function."
   ]
  },
  {
   "cell_type": "code",
   "execution_count": 41,
   "metadata": {
    "collapsed": false
   },
   "outputs": [
    {
     "data": {
      "image/png": "[encoded data removed]",
      "text/plain": [
       "<matplotlib.figure.Figure at 0x2057d181710>"
      ]
     },
     "metadata": {},
     "output_type": "display_data"
    }
   ],
   "source": [
    "data=list(non_passing_total_days_visited.values())\n",
    "plt.hist(data,bins=8)\n",
    "plt.xlabel('No of days visited')\n",
    "plt.ylabel('No of students');"
   ]
  },
  {
   "cell_type": "code",
   "execution_count": 42,
   "metadata": {
    "collapsed": false
   },
   "outputs": [
    {
     "data": {
      "image/png": "[encoded data removed]",
      "text/plain": [
       "<matplotlib.figure.Figure at 0x2057d157438>"
      ]
     },
     "metadata": {},
     "output_type": "display_data"
    }
   ],
   "source": [
    "data=list(passing_total_days_visited.values())\n",
    "plt.hist(data,bins=8)\n",
    "plt.xlabel('No of days visited')\n",
    "plt.ylabel('No of students');"
   ]
  },
  {
   "cell_type": "code",
   "execution_count": null,
   "metadata": {
    "collapsed": true
   },
   "outputs": [],
   "source": []
  }
 ],
 "metadata": {
  "anaconda-cloud": {},
  "kernelspec": {
   "display_name": "Python [conda root]",
   "language": "python",
   "name": "conda-root-py"
  },
  "language_info": {
   "codemirror_mode": {
    "name": "ipython",
    "version": 3
   },
   "file_extension": ".py",
   "mimetype": "text/x-python",
   "name": "python",
   "nbconvert_exporter": "python",
   "pygments_lexer": "ipython3",
   "version": "3.5.2"
  }
 },
 "nbformat": 4,
 "nbformat_minor": 0
}
