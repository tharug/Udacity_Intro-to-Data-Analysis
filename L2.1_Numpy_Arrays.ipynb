{
 "cells": [
  {
   "cell_type": "code",
   "execution_count": 3,
   "metadata": {
    "collapsed": true
   },
   "outputs": [],
   "source": [
    "import numpy as np\n",
    "\n",
    "# First 20 countries with employment data\n",
    "countries = np.array([\n",
    "    'Afghanistan', 'Albania', 'Algeria', 'Angola', 'Argentina',\n",
    "    'Armenia', 'Australia', 'Austria', 'Azerbaijan', 'Bahamas',\n",
    "    'Bahrain', 'Bangladesh', 'Barbados', 'Belarus', 'Belgium',\n",
    "    'Belize', 'Benin', 'Bhutan', 'Bolivia',\n",
    "    'Bosnia and Herzegovina'\n",
    "])\n",
    "\n",
    "# Employment data in 2007 for those 20 countries\n",
    "employment = np.array([\n",
    "    55.70000076,  51.40000153,  50.5       ,  75.69999695,\n",
    "    58.40000153,  40.09999847,  61.5       ,  57.09999847,\n",
    "    60.90000153,  66.59999847,  60.40000153,  68.09999847,\n",
    "    66.90000153,  53.40000153,  48.59999847,  56.79999924,\n",
    "    71.59999847,  58.40000153,  70.40000153,  41.20000076\n",
    "])"
   ]
  },
  {
   "cell_type": "markdown",
   "metadata": {},
   "source": [
    "# Attributes of a Numpy array"
   ]
  },
  {
   "cell_type": "code",
   "execution_count": 4,
   "metadata": {
    "collapsed": false
   },
   "outputs": [
    {
     "name": "stdout",
     "output_type": "stream",
     "text": [
      "ndarray.ndim:  1\n",
      "ndarray.shape:  (20,)\n",
      "ndarray.size:  20\n",
      "ndarray.dtype:  <U22\n",
      "ndarray.itemsize:  88\n"
     ]
    }
   ],
   "source": [
    "# ndarray.ndim return the number of dimensions of the array\n",
    "print ('ndarray.ndim: ',countries.ndim)\n",
    "\n",
    "# ndarray.shape return the size of the array in each dimension\n",
    "print ('ndarray.shape: ',countries.shape)\n",
    "\n",
    "# ndarray.size return the total number of elements of the array\n",
    "print ('ndarray.size: ',countries.size)\n",
    "\n",
    "# ndarray.dtype return the typr of the elements in the array\n",
    "print ('ndarray.dtype: ',countries.dtype)\n",
    "\n",
    "# ndarray.itemsize return the size of each element of the array\n",
    "print ('ndarray.itemsize: ',countries.itemsize)"
   ]
  },
  {
   "cell_type": "markdown",
   "metadata": {},
   "source": [
    "# Array indexing"
   ]
  },
  {
   "cell_type": "code",
   "execution_count": 8,
   "metadata": {
    "collapsed": false
   },
   "outputs": [
    {
     "name": "stdout",
     "output_type": "stream",
     "text": [
      "Afghanistan\n",
      "Angola\n"
     ]
    }
   ],
   "source": [
    "# Accessing elements (counting from zero)\n",
    "\n",
    "# Accessing the first element (index is 0)\n",
    "print (countries[0])\n",
    "# Accesing the fourth element (index is 3)\n",
    "print (countries[3])"
   ]
  },
  {
   "cell_type": "code",
   "execution_count": 9,
   "metadata": {
    "collapsed": false
   },
   "outputs": [
    {
     "name": "stdout",
     "output_type": "stream",
     "text": [
      "Bosnia and Herzegovina\n",
      "Bolivia\n"
     ]
    }
   ],
   "source": [
    "# To index from the end of the array, negative indices can be used\n",
    "# Last element\n",
    "print (countries[-1])\n",
    "\n",
    "# Second to last\n",
    "print (countries[-2])"
   ]
  },
  {
   "cell_type": "markdown",
   "metadata": {},
   "source": [
    "# Accessing subarrays"
   ]
  },
  {
   "cell_type": "code",
   "execution_count": 13,
   "metadata": {
    "collapsed": false
   },
   "outputs": [
    {
     "name": "stdout",
     "output_type": "stream",
     "text": [
      "['Afghanistan' 'Albania' 'Algeria']\n",
      "['Afghanistan' 'Albania' 'Algeria']\n",
      "['Armenia' 'Australia' 'Austria']\n",
      "['Bhutan' 'Bolivia' 'Bosnia and Herzegovina']\n",
      "['Afghanistan' 'Albania' 'Algeria' 'Angola' 'Argentina' 'Armenia'\n",
      " 'Australia' 'Austria' 'Azerbaijan' 'Bahamas' 'Bahrain' 'Bangladesh'\n",
      " 'Barbados' 'Belarus' 'Belgium' 'Belize' 'Benin' 'Bhutan' 'Bolivia'\n",
      " 'Bosnia and Herzegovina']\n"
     ]
    }
   ],
   "source": [
    "# Slicing syntax same as standard list\n",
    "# x[start:stop:step]\n",
    "\n",
    "# Accessing the first three elements\n",
    "print (countries[0:3])\n",
    "print (countries[:3])\n",
    "\n",
    "# Accessing subarray is middle (6th element to the 8th)\n",
    "print (countries[5:8])\n",
    "\n",
    "# Accessing the last three elements\n",
    "print (countries[17:])\n",
    "\n",
    "# Accessing all elements\n",
    "print (countries[:])"
   ]
  },
  {
   "cell_type": "code",
   "execution_count": 15,
   "metadata": {
    "collapsed": false
   },
   "outputs": [
    {
     "name": "stdout",
     "output_type": "stream",
     "text": [
      "<U22\n",
      "float64\n",
      "int32\n",
      "float64\n",
      "bool\n",
      "<U2\n"
     ]
    }
   ],
   "source": [
    "# Element types\n",
    "print (countries.dtype)\n",
    "print (employment.dtype)\n",
    "print (np.array([0, 1, 2, 3]).dtype)\n",
    "print (np.array([1.0, 1.5, 2.0, 2.5]).dtype)\n",
    "print (np.array([True, False, True]).dtype)\n",
    "print (np.array(['AL', 'AK', 'AZ', 'AR', 'CA']).dtype)"
   ]
  },
  {
   "cell_type": "code",
   "execution_count": 16,
   "metadata": {
    "collapsed": false
   },
   "outputs": [
    {
     "name": "stdout",
     "output_type": "stream",
     "text": [
      "[55 51 50 75 58 40 61 57 60 66 60 68 66 53 48 56 71 58 70 41]\n"
     ]
    }
   ],
   "source": [
    "# Casting data types can be done using astype method\n",
    "print (employment.astype(np.int32))"
   ]
  },
  {
   "cell_type": "code",
   "execution_count": null,
   "metadata": {
    "collapsed": true
   },
   "outputs": [],
   "source": [
    "# Looping\n",
    "for country in countries:\n",
    "    print 'Examining country {}'.format(country)\n",
    "\n",
    "for i in range(len(countries)):\n",
    "    country = countries[i]\n",
    "    country_employment = employment[i]\n",
    "    print 'Country {} has employment {}'.format(country,\n",
    "        country_employment)"
   ]
  },
  {
   "cell_type": "code",
   "execution_count": 21,
   "metadata": {
    "collapsed": false
   },
   "outputs": [
    {
     "name": "stdout",
     "output_type": "stream",
     "text": [
      "1173.70000077\n",
      "58.6850000385\n",
      "9.33826911369\n",
      "87.2032700397\n",
      "75.69999695\n",
      "40.09999847\n",
      "5\n",
      "3\n",
      "[   55.70000076   107.10000229   157.60000229   233.29999924   291.70000077\n",
      "   331.79999924   393.29999924   450.39999771   511.29999924   577.89999771\n",
      "   638.29999924   706.39999771   773.29999924   826.70000077   875.29999924\n",
      "   932.09999848  1003.69999695  1062.09999848  1132.50000001  1173.70000077]\n",
      "[  5.57000008e+01   2.86298012e+03   1.44580496e+05   1.09447431e+07\n",
      "   6.39173015e+08   2.56308369e+10   1.57629647e+12   9.00065261e+13\n",
      "   5.48139758e+15   3.65061070e+17   2.20496892e+19   1.50158380e+21\n",
      "   1.00455959e+23   5.36434834e+24   2.60707321e+26   1.48081757e+28\n",
      "   1.06026535e+30   6.19194983e+31   4.35913277e+33   1.79596274e+35]\n"
     ]
    }
   ],
   "source": [
    "# Numpy Mathematical and Statistical functions\n",
    "print (employment.sum())  # Sum of all elements in the array or along an axis\n",
    "print (employment.mean()) # Arithetic mean\n",
    "\n",
    "print (employment.std())  # Standard deviation\n",
    "print (employment.var())  # Variance\n",
    "\n",
    "print (employment.max())  # Max\n",
    "print (employment.min())  # Min\n",
    "\n",
    "print (employment.argmin()) # Index of the minimum element\n",
    "print (employment.argmax()) # Index of the maximum element\n",
    "\n",
    "print (employment.cumsum()) # Cumulative sum of elements\n",
    "print (employment.cumprod()) # Cumulative product of elements"
   ]
  },
  {
   "cell_type": "code",
   "execution_count": 25,
   "metadata": {
    "collapsed": true
   },
   "outputs": [],
   "source": [
    "def max_employment(countries, employment):\n",
    "    '''\n",
    "    Fill in this function to return the name of the country\n",
    "    with the highest employment in the given employment\n",
    "    data, and the employment in that country.\n",
    "    '''\n",
    "    max_value = employment.max()   # Replace this with your code\n",
    "    max_country = countries[employment.argmax()]      # Replace this with your code\n",
    "    \n",
    "    return (max_country, max_value)"
   ]
  },
  {
   "cell_type": "code",
   "execution_count": 26,
   "metadata": {
    "collapsed": false
   },
   "outputs": [
    {
     "data": {
      "text/plain": [
       "('Angola', 75.699996949999999)"
      ]
     },
     "execution_count": 26,
     "metadata": {},
     "output_type": "execute_result"
    }
   ],
   "source": [
    "# Highes employment\n",
    "max_employment(countries, employment)"
   ]
  },
  {
   "cell_type": "code",
   "execution_count": null,
   "metadata": {
    "collapsed": true
   },
   "outputs": [],
   "source": []
  }
 ],
 "metadata": {
  "anaconda-cloud": {},
  "kernelspec": {
   "display_name": "Python [conda root]",
   "language": "python",
   "name": "conda-root-py"
  },
  "language_info": {
   "codemirror_mode": {
    "name": "ipython",
    "version": 3
   },
   "file_extension": ".py",
   "mimetype": "text/x-python",
   "name": "python",
   "nbconvert_exporter": "python",
   "pygments_lexer": "ipython3",
   "version": "3.5.2"
  }
 },
 "nbformat": 4,
 "nbformat_minor": 1
}
